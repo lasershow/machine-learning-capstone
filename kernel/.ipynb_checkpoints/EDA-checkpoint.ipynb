{
 "cells": [
  {
   "cell_type": "markdown",
   "metadata": {},
   "source": [
    "https://www.kaggle.com/wesamelshamy/trackml-problem-explanation-and-data-exploration\n",
    "\n",
    "# Quick Problem Description\n",
    "Link every *track* to one *hit*.\n",
    "\n",
    "*Disclaimer: over simplifying physics to understand this problem*.\n",
    "\n",
    "Every particle leaves a track behind it.  Like a car leaving tyre marks in the sand.  We did not catch the particle in action.  Now we want to link every track (tyre marks) to one hit that the particle created.\n",
    "\n",
    "In every **event**, a large number of **particles** are released.  They move along a path leaving behind their **tracks**.  They eventually **hit** a particle detector surface on the other end.\n",
    "\n",
    "In the training data we have the following information on each **event**:\n",
    "- **Hits**: $x, y, z$ coordinates of each hit on the particle detector.\n",
    "- **Particles**: Each particle's initial position ($v_x, v_y, v_z$), momentum ($p_x, p_y, p_z$), charge ($q$) and number of hits.\n",
    "- **Truth**: Mapping between hits and generating particles.  The particle's trajectory, momentum and the hit weight.\n",
    "- **Cells**: Precise location of where the particle hit the detector and how much energy it deposited."
   ]
  },
  {
   "cell_type": "code",
   "execution_count": null,
   "metadata": {
    "collapsed": true
   },
   "outputs": [],
   "source": []
  }
 ],
 "metadata": {
  "kernelspec": {
   "display_name": "Python 3",
   "language": "python",
   "name": "python3"
  },
  "language_info": {
   "codemirror_mode": {
    "name": "ipython",
    "version": 3
   },
   "file_extension": ".py",
   "mimetype": "text/x-python",
   "name": "python",
   "nbconvert_exporter": "python",
   "pygments_lexer": "ipython3",
   "version": "3.6.0"
  }
 },
 "nbformat": 4,
 "nbformat_minor": 2
}
